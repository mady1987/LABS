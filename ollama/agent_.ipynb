{
 "cells": [
  {
   "cell_type": "code",
   "execution_count": 3,
   "id": "b45d9e44",
   "metadata": {},
   "outputs": [
    {
     "name": "stdout",
     "output_type": "stream",
     "text": [
      "23 × 57 = 1311.\n"
     ]
    }
   ],
   "source": [
    "import requests\n",
    "\n",
    "def ask_ollama(prompt):\n",
    "    response = requests.post(\"http://localhost:11434/api/generate\", json={\n",
    "        \"model\": \"llama3.1\",   # or \"llama3.1:latest\"\n",
    "        \"prompt\": prompt,\n",
    "        \"stream\": False\n",
    "    })\n",
    "\n",
    "    data = response.json()\n",
    "    if \"response\" in data:\n",
    "        return data[\"response\"]\n",
    "    else:\n",
    "        print(\"❌ Error from Ollama:\", data)\n",
    "        return None\n",
    "\n",
    "print(ask_ollama(\"What's 23 x 57?\"))"
   ]
  },
  {
   "cell_type": "code",
   "execution_count": null,
   "id": "97a911c1",
   "metadata": {},
   "outputs": [],
   "source": [
    "from langchain.agents import Tool, initialize_agent\n",
    "from langchain.agents.agent_types import AgentType\n",
    "from langchain_community.llms import Ollama\n",
    "import math\n",
    "\n",
    "# 1. Init Ollama LLM\n",
    "llm = Ollama(model=\"llama3.1\")\n",
    "\n",
    "# 2. Define tools\n",
    "\n",
    "def calc(expression: str) -> str:\n",
    "    try:\n",
    "        return str(eval(expression))\n",
    "    except Exception as e:\n",
    "        return f\"Error in calculation: {str(e)}\"\n",
    "\n",
    "def get_weather(city: str) -> str:\n",
    "    return f\"The weather in {city} is 32°C and sunny ☀️ (demo response).\"\n",
    "\n",
    "tools = [\n",
    "    Tool(\n",
    "        name=\"Calculator\",\n",
    "        func=calc,\n",
    "        description=\"Use this tool to do math calculations like 23 * 57 or 2 ** 10\"\n",
    "    ),\n",
    "    Tool(\n",
    "        name=\"WeatherTool\",\n",
    "        func=get_weather,\n",
    "        description=\"Use this to get weather in any city like Hyderabad or Bangalore\"\n",
    "    )\n",
    "]\n",
    "\n",
    "# 3. Initialize the agent\n",
    "agent = initialize_agent(\n",
    "    tools=tools,\n",
    "    llm=llm,\n",
    "    agent=AgentType.OPENAI_FUNCTIONS,\n",
    "    verbose=True\n",
    ")\n",
    "\n",
    "# # 4. Ask multi-step question\n",
    "# query = \"What is 23 times 57 and also tell me the weather in Hyderabad\"\n",
    "# result = agent.run(query)\n",
    "# print(\"\\nFinal Answer:\", result)\n"
   ]
  },
  {
   "cell_type": "code",
   "execution_count": 15,
   "id": "607b38c9",
   "metadata": {},
   "outputs": [
    {
     "name": "stdout",
     "output_type": "stream",
     "text": [
      "\n",
      "\n",
      "\u001b[1m> Entering new AgentExecutor chain...\u001b[0m\n",
      "\u001b[32;1m\u001b[1;3mAction:\n",
      "{\n",
      "  \"action\": \"Calculator\",\n",
      "  \"action_input\": {\n",
      "    \"type\": \"string\",\n",
      "    \"input\": \"23 * 57\"\n",
      "  }\n",
      "}\n",
      "\n",
      "\u001b[0m\n",
      "\n",
      "\u001b[1m> Finished chain.\u001b[0m\n",
      "\n",
      "Final Answer: Action:\n",
      "{\n",
      "  \"action\": \"Calculator\",\n",
      "  \"action_input\": {\n",
      "    \"type\": \"string\",\n",
      "    \"input\": \"23 * 57\"\n",
      "  }\n",
      "}\n",
      "\n",
      "\n"
     ]
    }
   ],
   "source": [
    "# query = \"weather in Hyderabad\"\n",
    "query = \"Please calculate 23 * 57 using the calculator tool and tell me the weather in Hyderabad using the weather tool\"\n",
    "\n",
    "result = agent.run(query)\n",
    "print(\"\\nFinal Answer:\", result)"
   ]
  }
 ],
 "metadata": {
  "kernelspec": {
   "display_name": "venv",
   "language": "python",
   "name": "python3"
  },
  "language_info": {
   "codemirror_mode": {
    "name": "ipython",
    "version": 3
   },
   "file_extension": ".py",
   "mimetype": "text/x-python",
   "name": "python",
   "nbconvert_exporter": "python",
   "pygments_lexer": "ipython3",
   "version": "3.10.11"
  }
 },
 "nbformat": 4,
 "nbformat_minor": 5
}
