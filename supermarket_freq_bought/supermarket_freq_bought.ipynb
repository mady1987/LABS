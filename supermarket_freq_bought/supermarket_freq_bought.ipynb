{
 "cells": [
  {
   "cell_type": "code",
   "execution_count": 5,
   "id": "486644ff",
   "metadata": {},
   "outputs": [],
   "source": [
    "import pandas as pd\n",
    "from mlxtend.frequent_patterns import apriori, association_rules, fpgrowth\n",
    "import matplotlib.pyplot as plt\n"
   ]
  },
  {
   "cell_type": "code",
   "execution_count": null,
   "id": "fe99d934",
   "metadata": {},
   "outputs": [
    {
     "name": "stdout",
     "output_type": "stream",
     "text": [
      "   order_id product\n",
      "0      1001  Butter\n",
      "1      1001  Spices\n",
      "2      1002    Rice\n",
      "3      1002     Oil\n",
      "4      1002  Spices\n"
     ]
    }
   ],
   "source": [
    "\n",
    "df = pd.read_csv(\"../datasets/supermarket_data/supermarket_orders.csv\")\n",
    "print(df.head())"
   ]
  },
  {
   "cell_type": "code",
   "execution_count": 3,
   "id": "9b55dd62",
   "metadata": {},
   "outputs": [
    {
     "name": "stdout",
     "output_type": "stream",
     "text": [
      "(5000, 29)\n"
     ]
    },
    {
     "name": "stderr",
     "output_type": "stream",
     "text": [
      "C:\\Users\\madhu\\AppData\\Local\\Temp\\ipykernel_34732\\3198572979.py:5: FutureWarning: DataFrame.applymap has been deprecated. Use DataFrame.map instead.\n",
      "  basket = basket.applymap(lambda x: 1 if x > 0 else 0)\n"
     ]
    },
    {
     "data": {
      "text/html": [
       "<div>\n",
       "<style scoped>\n",
       "    .dataframe tbody tr th:only-of-type {\n",
       "        vertical-align: middle;\n",
       "    }\n",
       "\n",
       "    .dataframe tbody tr th {\n",
       "        vertical-align: top;\n",
       "    }\n",
       "\n",
       "    .dataframe thead th {\n",
       "        text-align: right;\n",
       "    }\n",
       "</style>\n",
       "<table border=\"1\" class=\"dataframe\">\n",
       "  <thead>\n",
       "    <tr style=\"text-align: right;\">\n",
       "      <th>product</th>\n",
       "      <th>Apple</th>\n",
       "      <th>Banana</th>\n",
       "      <th>Biscuits</th>\n",
       "      <th>Bread</th>\n",
       "      <th>Butter</th>\n",
       "      <th>Cheese</th>\n",
       "      <th>Chips</th>\n",
       "      <th>Coffee</th>\n",
       "      <th>Dal</th>\n",
       "      <th>Detergent</th>\n",
       "      <th>...</th>\n",
       "      <th>Rice</th>\n",
       "      <th>Salt</th>\n",
       "      <th>Shampoo</th>\n",
       "      <th>Soap</th>\n",
       "      <th>Spices</th>\n",
       "      <th>Sugar</th>\n",
       "      <th>Tea</th>\n",
       "      <th>Tomato</th>\n",
       "      <th>Toothpaste</th>\n",
       "      <th>Yogurt</th>\n",
       "    </tr>\n",
       "    <tr>\n",
       "      <th>order_id</th>\n",
       "      <th></th>\n",
       "      <th></th>\n",
       "      <th></th>\n",
       "      <th></th>\n",
       "      <th></th>\n",
       "      <th></th>\n",
       "      <th></th>\n",
       "      <th></th>\n",
       "      <th></th>\n",
       "      <th></th>\n",
       "      <th></th>\n",
       "      <th></th>\n",
       "      <th></th>\n",
       "      <th></th>\n",
       "      <th></th>\n",
       "      <th></th>\n",
       "      <th></th>\n",
       "      <th></th>\n",
       "      <th></th>\n",
       "      <th></th>\n",
       "      <th></th>\n",
       "    </tr>\n",
       "  </thead>\n",
       "  <tbody>\n",
       "    <tr>\n",
       "      <th>1001</th>\n",
       "      <td>0</td>\n",
       "      <td>0</td>\n",
       "      <td>0</td>\n",
       "      <td>0</td>\n",
       "      <td>1</td>\n",
       "      <td>0</td>\n",
       "      <td>0</td>\n",
       "      <td>0</td>\n",
       "      <td>0</td>\n",
       "      <td>0</td>\n",
       "      <td>...</td>\n",
       "      <td>0</td>\n",
       "      <td>0</td>\n",
       "      <td>0</td>\n",
       "      <td>0</td>\n",
       "      <td>1</td>\n",
       "      <td>0</td>\n",
       "      <td>0</td>\n",
       "      <td>0</td>\n",
       "      <td>0</td>\n",
       "      <td>0</td>\n",
       "    </tr>\n",
       "    <tr>\n",
       "      <th>1002</th>\n",
       "      <td>0</td>\n",
       "      <td>0</td>\n",
       "      <td>0</td>\n",
       "      <td>0</td>\n",
       "      <td>0</td>\n",
       "      <td>0</td>\n",
       "      <td>0</td>\n",
       "      <td>0</td>\n",
       "      <td>0</td>\n",
       "      <td>0</td>\n",
       "      <td>...</td>\n",
       "      <td>1</td>\n",
       "      <td>0</td>\n",
       "      <td>0</td>\n",
       "      <td>0</td>\n",
       "      <td>1</td>\n",
       "      <td>0</td>\n",
       "      <td>0</td>\n",
       "      <td>0</td>\n",
       "      <td>0</td>\n",
       "      <td>0</td>\n",
       "    </tr>\n",
       "    <tr>\n",
       "      <th>1003</th>\n",
       "      <td>0</td>\n",
       "      <td>1</td>\n",
       "      <td>0</td>\n",
       "      <td>0</td>\n",
       "      <td>0</td>\n",
       "      <td>0</td>\n",
       "      <td>0</td>\n",
       "      <td>0</td>\n",
       "      <td>0</td>\n",
       "      <td>1</td>\n",
       "      <td>...</td>\n",
       "      <td>0</td>\n",
       "      <td>1</td>\n",
       "      <td>0</td>\n",
       "      <td>1</td>\n",
       "      <td>0</td>\n",
       "      <td>0</td>\n",
       "      <td>0</td>\n",
       "      <td>0</td>\n",
       "      <td>0</td>\n",
       "      <td>1</td>\n",
       "    </tr>\n",
       "    <tr>\n",
       "      <th>1004</th>\n",
       "      <td>0</td>\n",
       "      <td>0</td>\n",
       "      <td>0</td>\n",
       "      <td>0</td>\n",
       "      <td>0</td>\n",
       "      <td>0</td>\n",
       "      <td>0</td>\n",
       "      <td>0</td>\n",
       "      <td>0</td>\n",
       "      <td>1</td>\n",
       "      <td>...</td>\n",
       "      <td>0</td>\n",
       "      <td>0</td>\n",
       "      <td>0</td>\n",
       "      <td>1</td>\n",
       "      <td>0</td>\n",
       "      <td>0</td>\n",
       "      <td>0</td>\n",
       "      <td>1</td>\n",
       "      <td>0</td>\n",
       "      <td>0</td>\n",
       "    </tr>\n",
       "    <tr>\n",
       "      <th>1005</th>\n",
       "      <td>0</td>\n",
       "      <td>0</td>\n",
       "      <td>0</td>\n",
       "      <td>0</td>\n",
       "      <td>0</td>\n",
       "      <td>0</td>\n",
       "      <td>0</td>\n",
       "      <td>1</td>\n",
       "      <td>0</td>\n",
       "      <td>0</td>\n",
       "      <td>...</td>\n",
       "      <td>0</td>\n",
       "      <td>0</td>\n",
       "      <td>0</td>\n",
       "      <td>0</td>\n",
       "      <td>0</td>\n",
       "      <td>1</td>\n",
       "      <td>0</td>\n",
       "      <td>0</td>\n",
       "      <td>0</td>\n",
       "      <td>0</td>\n",
       "    </tr>\n",
       "  </tbody>\n",
       "</table>\n",
       "<p>5 rows × 29 columns</p>\n",
       "</div>"
      ],
      "text/plain": [
       "product   Apple  Banana  Biscuits  Bread  Butter  Cheese  Chips  Coffee  Dal  \\\n",
       "order_id                                                                       \n",
       "1001          0       0         0      0       1       0      0       0    0   \n",
       "1002          0       0         0      0       0       0      0       0    0   \n",
       "1003          0       1         0      0       0       0      0       0    0   \n",
       "1004          0       0         0      0       0       0      0       0    0   \n",
       "1005          0       0         0      0       0       0      0       1    0   \n",
       "\n",
       "product   Detergent  ...  Rice  Salt  Shampoo  Soap  Spices  Sugar  Tea  \\\n",
       "order_id             ...                                                  \n",
       "1001              0  ...     0     0        0     0       1      0    0   \n",
       "1002              0  ...     1     0        0     0       1      0    0   \n",
       "1003              1  ...     0     1        0     1       0      0    0   \n",
       "1004              1  ...     0     0        0     1       0      0    0   \n",
       "1005              0  ...     0     0        0     0       0      1    0   \n",
       "\n",
       "product   Tomato  Toothpaste  Yogurt  \n",
       "order_id                              \n",
       "1001           0           0       0  \n",
       "1002           0           0       0  \n",
       "1003           0           0       1  \n",
       "1004           1           0       0  \n",
       "1005           0           0       0  \n",
       "\n",
       "[5 rows x 29 columns]"
      ]
     },
     "execution_count": 3,
     "metadata": {},
     "output_type": "execute_result"
    }
   ],
   "source": [
    "basket = df.groupby(['order_id', 'product'])['product'] \\\n",
    "            .count().unstack().reset_index().fillna(0).set_index('order_id')\n",
    "\n",
    "# Convert counts to binary (1 = bought, 0 = not bought)\n",
    "basket = basket.applymap(lambda x: 1 if x > 0 else 0)\n",
    "\n",
    "print(basket.shape)\n",
    "basket.head()"
   ]
  },
  {
   "cell_type": "code",
   "execution_count": 6,
   "id": "f3a28b8a",
   "metadata": {},
   "outputs": [
    {
     "name": "stdout",
     "output_type": "stream",
     "text": [
      "\n",
      "Top Frequent Itemsets (Apriori):\n",
      "    support    itemsets\n",
      "3    0.1808     (Bread)\n",
      "24   0.1804     (Sugar)\n",
      "14   0.1750      (Milk)\n",
      "25   0.1416       (Tea)\n",
      "26   0.1380    (Tomato)\n",
      "2    0.1366  (Biscuits)\n",
      "10   0.1366      (Eggs)\n",
      "17   0.1356    (Orange)\n",
      "18   0.1352    (Potato)\n",
      "5    0.1346    (Cheese)\n"
     ]
    },
    {
     "name": "stderr",
     "output_type": "stream",
     "text": [
      "c:\\Learning\\Labs\\venv\\lib\\site-packages\\mlxtend\\frequent_patterns\\fpcommon.py:161: DeprecationWarning: DataFrames with non-bool types result in worse computationalperformance and their support might be discontinued in the future.Please use a DataFrame with bool type\n",
      "  warnings.warn(\n"
     ]
    }
   ],
   "source": [
    "frequent_items = apriori(basket, min_support=0.02, use_colnames=True)\n",
    "print(\"\\nTop Frequent Itemsets (Apriori):\")\n",
    "print(frequent_items.sort_values(\"support\", ascending=False).head(10))"
   ]
  },
  {
   "cell_type": "code",
   "execution_count": 8,
   "id": "f80d64b3",
   "metadata": {},
   "outputs": [
    {
     "name": "stdout",
     "output_type": "stream",
     "text": [
      "\n",
      "Top Rules from Apriori:\n",
      "              antecedents consequents  support  confidence      lift\n",
      "55           (Sugar, Tea)  (Biscuits)   0.0550    0.889968  6.515136\n",
      "49        (Orange, Apple)    (Banana)   0.0512    0.882759  6.687565\n",
      "70          (Sugar, Milk)    (Coffee)   0.0500    0.877193  6.556001\n",
      "72            (Rice, Oil)    (Spices)   0.0502    0.871528  6.798189\n",
      "85  (Shampoo, Toothpaste)      (Soap)   0.0506    0.866438  6.446714\n",
      "47       (Orange, Banana)     (Apple)   0.0512    0.859060  6.567740\n",
      "86     (Soap, Toothpaste)   (Shampoo)   0.0506    0.857627  6.458036\n",
      "53        (Biscuits, Tea)     (Sugar)   0.0550    0.856698  4.748879\n",
      "63         (Eggs, Cheese)     (Bread)   0.0512    0.856187  4.735549\n",
      "68        (Coffee, Sugar)      (Milk)   0.0500    0.853242  4.875670\n"
     ]
    }
   ],
   "source": [
    "rules = association_rules(frequent_items, metric=\"confidence\", min_threshold=0.3)\n",
    "rules = rules.sort_values(\"confidence\", ascending=False)\n",
    "\n",
    "print(\"\\nTop Rules from Apriori:\")\n",
    "print(rules[['antecedents', 'consequents', 'support', 'confidence', 'lift']].head(10))"
   ]
  },
  {
   "cell_type": "code",
   "execution_count": 18,
   "id": "95299533",
   "metadata": {},
   "outputs": [
    {
     "name": "stderr",
     "output_type": "stream",
     "text": [
      "c:\\Learning\\Labs\\venv\\lib\\site-packages\\mlxtend\\frequent_patterns\\fpcommon.py:161: DeprecationWarning: DataFrames with non-bool types result in worse computationalperformance and their support might be discontinued in the future.Please use a DataFrame with bool type\n",
      "  warnings.warn(\n"
     ]
    },
    {
     "name": "stdout",
     "output_type": "stream",
     "text": [
      "\n",
      "Top Rules from FP-Growth:\n",
      "              antecedents consequents  support  confidence      lift\n",
      "70           (Sugar, Tea)  (Biscuits)   0.0550    0.889968  6.515136\n",
      "60        (Orange, Apple)    (Banana)   0.0512    0.882759  6.687565\n",
      "43          (Sugar, Milk)    (Coffee)   0.0500    0.877193  6.556001\n",
      "11            (Rice, Oil)    (Spices)   0.0502    0.871528  6.798189\n",
      "81  (Shampoo, Toothpaste)      (Soap)   0.0506    0.866438  6.446714\n",
      "58       (Orange, Banana)     (Apple)   0.0512    0.859060  6.567740\n",
      "82     (Soap, Toothpaste)   (Shampoo)   0.0506    0.857627  6.458036\n",
      "68        (Biscuits, Tea)     (Sugar)   0.0550    0.856698  4.748879\n",
      "49         (Eggs, Cheese)     (Bread)   0.0512    0.856187  4.735549\n",
      "41        (Coffee, Sugar)      (Milk)   0.0500    0.853242  4.875670\n"
     ]
    }
   ],
   "source": [
    "frequent_items_fp = fpgrowth(basket, min_support=0.02, use_colnames=True)\n",
    "rules_fp = association_rules(frequent_items_fp, metric=\"confidence\", min_threshold=0.3)\n",
    "rules_fp = rules_fp.sort_values(\"confidence\", ascending=False)\n",
    "\n",
    "print(\"\\nTop Rules from FP-Growth:\")\n",
    "print(rules_fp[['antecedents', 'consequents', 'support', 'confidence', 'lift']].head(10))"
   ]
  },
  {
   "cell_type": "code",
   "execution_count": 11,
   "id": "82b6e3d4",
   "metadata": {},
   "outputs": [
    {
     "data": {
      "image/png": "[encoded data removed]",
      "text/plain": [
       "<Figure size 1000x600 with 1 Axes>"
      ]
     },
     "metadata": {},
     "output_type": "display_data"
    }
   ],
   "source": [
    "top_rules = rules_fp.sort_values(\"lift\", ascending=False).head(10)\n",
    "\n",
    "plt.figure(figsize=(10,6))\n",
    "plt.barh(range(len(top_rules)), top_rules['lift'], color=\"skyblue\")\n",
    "plt.yticks(\n",
    "    range(len(top_rules)),\n",
    "    [f\"{', '.join(list(a))} → {', '.join(list(c))}\"\n",
    "     for a, c in zip(top_rules['antecedents'], top_rules['consequents'])]\n",
    ")\n",
    "plt.xlabel(\"Lift\")\n",
    "plt.title(\"Top 10 Frequently Bought Together Combos\")\n",
    "plt.gca().invert_yaxis()\n",
    "plt.show()"
   ]
  },
  {
   "cell_type": "code",
   "execution_count": 12,
   "id": "63aaf56b",
   "metadata": {},
   "outputs": [
    {
     "name": "stdout",
     "output_type": "stream",
     "text": [
      "\n",
      "Cart: ['Milk', 'Bread']\n",
      "Recommended Products: ['Coffee', 'Sugar', 'Butter']\n"
     ]
    }
   ],
   "source": [
    "def recommend_products(cart_items, rules_df, top_n=3):\n",
    "    \"\"\"Recommend products based on items in the cart.\"\"\"\n",
    "    recommendations = set()\n",
    "    for item in cart_items:\n",
    "        # Find rules where current item is in antecedents\n",
    "        matched_rules = rules_df[rules_df['antecedents'].apply(lambda x: item in x)]\n",
    "        for _, row in matched_rules.iterrows():\n",
    "            for product in row['consequents']:\n",
    "                if product not in cart_items:\n",
    "                    recommendations.add(product)\n",
    "        if len(recommendations) >= top_n:\n",
    "            break\n",
    "    return list(recommendations)[:top_n]\n",
    "\n",
    "# Example Usage\n",
    "cart = [\"Milk\", \"Bread\"]\n",
    "suggestions = recommend_products(cart, rules_fp, top_n=3)\n",
    "print(f\"\\nCart: {cart}\")\n",
    "print(f\"Recommended Products: {suggestions}\")"
   ]
  },
  {
   "cell_type": "code",
   "execution_count": 16,
   "id": "ec993f90",
   "metadata": {},
   "outputs": [
    {
     "name": "stdout",
     "output_type": "stream",
     "text": [
      "Support for Milk: 0.175\n",
      "Support for Bread: 0.1808\n"
     ]
    },
    {
     "data": {
      "text/plain": [
       "5000"
      ]
     },
     "execution_count": 16,
     "metadata": {},
     "output_type": "execute_result"
    }
   ],
   "source": [
    "# You can manually check support of a product:\n",
    "\n",
    "milk_support = basket['Milk'].sum() / basket.shape[0]\n",
    "print(\"Support for Milk:\", milk_support)\n",
    "\n",
    "bread_support = basket['Bread'].sum() / basket.shape[0]\n",
    "print(\"Support for Bread:\", bread_support)\n",
    "basket['Milk'].sum() \n",
    "basket.shape[0]"
   ]
  }
 ],
 "metadata": {
  "kernelspec": {
   "display_name": "venv",
   "language": "python",
   "name": "python3"
  },
  "language_info": {
   "codemirror_mode": {
    "name": "ipython",
    "version": 3
   },
   "file_extension": ".py",
   "mimetype": "text/x-python",
   "name": "python",
   "nbconvert_exporter": "python",
   "pygments_lexer": "ipython3",
   "version": "3.10.11"
  }
 },
 "nbformat": 4,
 "nbformat_minor": 5
}
